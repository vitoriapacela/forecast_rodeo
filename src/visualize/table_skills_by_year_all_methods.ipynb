{
 "cells": [
  {
   "cell_type": "markdown",
   "metadata": {},
   "source": [
    "# Table of skills by year\n",
    "\n",
    "Generates a LaTeX table of skills for each forecast method over the years 2011-2018."
   ]
  },
  {
   "cell_type": "code",
   "execution_count": 1,
   "metadata": {},
   "outputs": [],
   "source": [
    "# Autoreload packages that are modified\n",
    "%load_ext autoreload\n",
    "%autoreload 2\n",
    "\n",
    "# Load relevant packages\n",
    "import numpy as np\n",
    "import pandas as pd\n",
    "from sklearn import *\n",
    "import sys\n",
    "import subprocess\n",
    "from datetime import datetime, timedelta\n",
    "import netCDF4\n",
    "import time\n",
    "from functools import partial\n",
    "import os\n",
    "%matplotlib inline\n",
    "import matplotlib\n",
    "import matplotlib.pyplot as plt\n",
    "\n",
    "# Ensure correct working directory\n",
    "if os.path.basename(os.getcwd()) == \"visualize\":\n",
    "    # Navigate to base folder\n",
    "    os.chdir(os.path.join(\"..\",\"..\"))\n",
    "\n",
    "# Adds 'experiments' folder to path to load experiments_util\n",
    "sys.path.insert(0, 'src/experiments')\n",
    "# Load general utility functions\n",
    "from experiments_util import *"
   ]
  },
  {
   "cell_type": "code",
   "execution_count": 2,
   "metadata": {},
   "outputs": [],
   "source": [
    "gt_id = \"contest_tmp2m\" # \"contest_tmp2m\" or \"contest_precip\"\n",
    "\n",
    "target_horizon = \"34w\"\n",
    "backward34_file=\"results/skills/backward_stepwise/skill-{}-{}-margin56-mean.h5\".format(gt_id, target_horizon)\n",
    "knn34_file=\"results/skills/knn_target_regression/skill-{}-{}-days60-early{}.h5\".format(gt_id, target_horizon, 337 if target_horizon==\"34w\" else 323)\n",
    "ensemble34_file=\"results/skills/ensemble_backward_stepwise_and_knn/skill-{}-{}-margin56-mean.h5\".format(gt_id, target_horizon)\n",
    "deb_cfs34_file=\"results/skills/debiased_cfsv2/skill-{}-{}.h5\".format(gt_id, target_horizon)\n",
    "ens_cfs34_file=\"results/skills/ensemble_backward_stepwise_knn_debiased_cfsv2/skill-{}-{}-margin56-mean.h5\".format(gt_id, target_horizon)\n",
    "\n",
    "target_horizon = \"56w\"\n",
    "backward56_file=\"results/skills/backward_stepwise/skill-{}-{}-margin56-mean.h5\".format(gt_id, target_horizon)\n",
    "knn56_file=\"results/skills/knn_target_regression/skill-{}-{}-days60-early{}.h5\".format(gt_id, target_horizon, 337 if target_horizon==\"34w\" else 323)\n",
    "ensemble56_file=\"results/skills/ensemble_backward_stepwise_and_knn/skill-{}-{}-margin56-mean.h5\".format(gt_id, target_horizon)\n",
    "deb_cfs56_file=\"results/skills/debiased_cfsv2/skill-{}-{}.h5\".format(gt_id, target_horizon)\n",
    "ens_cfs56_file=\"results/skills/ensemble_backward_stepwise_knn_debiased_cfsv2/skill-{}-{}-margin56-mean.h5\".format(gt_id, target_horizon)\n",
    "\n",
    "del target_horizon"
   ]
  },
  {
   "cell_type": "code",
   "execution_count": 3,
   "metadata": {},
   "outputs": [
    {
     "ename": "FileNotFoundError",
     "evalue": "File results/skills/backward_stepwise/skill-contest_tmp2m-34w-margin56-mean.h5 does not exist",
     "output_type": "error",
     "traceback": [
      "\u001b[0;31m---------------------------------------------------------------------------\u001b[0m",
      "\u001b[0;31mFileNotFoundError\u001b[0m                         Traceback (most recent call last)",
      "\u001b[0;32m<ipython-input-3-57925880bf43>\u001b[0m in \u001b[0;36m<module>\u001b[0;34m\u001b[0m\n\u001b[0;32m----> 1\u001b[0;31m \u001b[0mbackward34_skills\u001b[0m \u001b[0;34m=\u001b[0m \u001b[0mpd\u001b[0m\u001b[0;34m.\u001b[0m\u001b[0mread_hdf\u001b[0m\u001b[0;34m(\u001b[0m\u001b[0mbackward34_file\u001b[0m\u001b[0;34m)\u001b[0m\u001b[0;34m\u001b[0m\u001b[0;34m\u001b[0m\u001b[0m\n\u001b[0m\u001b[1;32m      2\u001b[0m \u001b[0mknn34_skills\u001b[0m \u001b[0;34m=\u001b[0m \u001b[0mpd\u001b[0m\u001b[0;34m.\u001b[0m\u001b[0mread_hdf\u001b[0m\u001b[0;34m(\u001b[0m\u001b[0mknn34_file\u001b[0m\u001b[0;34m)\u001b[0m\u001b[0;34m\u001b[0m\u001b[0;34m\u001b[0m\u001b[0m\n\u001b[1;32m      3\u001b[0m \u001b[0mensemble34_skills\u001b[0m \u001b[0;34m=\u001b[0m \u001b[0mpd\u001b[0m\u001b[0;34m.\u001b[0m\u001b[0mread_hdf\u001b[0m\u001b[0;34m(\u001b[0m\u001b[0mensemble34_file\u001b[0m\u001b[0;34m)\u001b[0m\u001b[0;34m\u001b[0m\u001b[0;34m\u001b[0m\u001b[0m\n\u001b[1;32m      4\u001b[0m \u001b[0mdeb_cfs34_skills\u001b[0m \u001b[0;34m=\u001b[0m \u001b[0mpd\u001b[0m\u001b[0;34m.\u001b[0m\u001b[0mread_hdf\u001b[0m\u001b[0;34m(\u001b[0m\u001b[0mdeb_cfs34_file\u001b[0m\u001b[0;34m)\u001b[0m\u001b[0;34m\u001b[0m\u001b[0;34m\u001b[0m\u001b[0m\n\u001b[1;32m      5\u001b[0m \u001b[0mens_cfs34_skills\u001b[0m \u001b[0;34m=\u001b[0m \u001b[0mpd\u001b[0m\u001b[0;34m.\u001b[0m\u001b[0mread_hdf\u001b[0m\u001b[0;34m(\u001b[0m\u001b[0mens_cfs34_file\u001b[0m\u001b[0;34m)\u001b[0m\u001b[0;34m\u001b[0m\u001b[0;34m\u001b[0m\u001b[0m\n",
      "\u001b[0;32m~/.conda/envs/geo/lib/python3.6/site-packages/pandas/io/pytables.py\u001b[0m in \u001b[0;36mread_hdf\u001b[0;34m(path_or_buf, key, mode, **kwargs)\u001b[0m\n\u001b[1;32m    364\u001b[0m         \u001b[0;32mif\u001b[0m \u001b[0;32mnot\u001b[0m \u001b[0mexists\u001b[0m\u001b[0;34m:\u001b[0m\u001b[0;34m\u001b[0m\u001b[0;34m\u001b[0m\u001b[0m\n\u001b[1;32m    365\u001b[0m             raise compat.FileNotFoundError(\n\u001b[0;32m--> 366\u001b[0;31m                 'File {path} does not exist'.format(path=path_or_buf))\n\u001b[0m\u001b[1;32m    367\u001b[0m \u001b[0;34m\u001b[0m\u001b[0m\n\u001b[1;32m    368\u001b[0m         \u001b[0mstore\u001b[0m \u001b[0;34m=\u001b[0m \u001b[0mHDFStore\u001b[0m\u001b[0;34m(\u001b[0m\u001b[0mpath_or_buf\u001b[0m\u001b[0;34m,\u001b[0m \u001b[0mmode\u001b[0m\u001b[0;34m=\u001b[0m\u001b[0mmode\u001b[0m\u001b[0;34m,\u001b[0m \u001b[0;34m**\u001b[0m\u001b[0mkwargs\u001b[0m\u001b[0;34m)\u001b[0m\u001b[0;34m\u001b[0m\u001b[0;34m\u001b[0m\u001b[0m\n",
      "\u001b[0;31mFileNotFoundError\u001b[0m: File results/skills/backward_stepwise/skill-contest_tmp2m-34w-margin56-mean.h5 does not exist"
     ]
    }
   ],
   "source": [
    "backward34_skills = pd.read_hdf(backward34_file)\n",
    "knn34_skills = pd.read_hdf(knn34_file)\n",
    "ensemble34_skills = pd.read_hdf(ensemble34_file)\n",
    "deb_cfs34_skills = pd.read_hdf(deb_cfs34_file)\n",
    "ens_cfs34_skills = pd.read_hdf(ens_cfs34_file)\n",
    "\n",
    "backward56_skills = pd.read_hdf(backward56_file)\n",
    "knn56_skills = pd.read_hdf(knn56_file)\n",
    "ensemble56_skills = pd.read_hdf(ensemble56_file)\n",
    "deb_cfs56_skills = pd.read_hdf(deb_cfs56_file)\n",
    "ens_cfs56_skills = pd.read_hdf(ens_cfs56_file)"
   ]
  },
  {
   "cell_type": "code",
   "execution_count": null,
   "metadata": {},
   "outputs": [],
   "source": [
    "all34_skills = pd.concat(\n",
    "    [backward34_skills.start_date, \n",
    "     backward34_skills.skill, knn34_skills.skill, ensemble34_skills.skill, \n",
    "     deb_cfs34_skills.skill, ens_cfs34_skills.skill],\n",
    "    keys=['start_date','backward34','knn34','ensemble34','deb_cfs34','ens_cfs34'\n",
    "         ], axis=1)\n",
    "all56_skills = pd.concat(\n",
    "    [backward56_skills.start_date, \n",
    "     backward56_skills.skill, knn56_skills.skill, ensemble56_skills.skill,\n",
    "     deb_cfs56_skills.skill, ens_cfs56_skills.skill],\n",
    "    keys=['start_date','backward56','knn56','ensemble56','deb_cfs56','ens_cfs56'\n",
    "         ], axis=1)"
   ]
  },
  {
   "cell_type": "code",
   "execution_count": null,
   "metadata": {},
   "outputs": [],
   "source": [
    "print '\\\\begin{table*}[ht]'\n",
    "print '\\\\begin{tabular}{c|ccccc|ccccc}'\n",
    "print '\\\\toprule'\n",
    "gt_str = 'temperature' if gt_id.endswith(\"tmp2m\") else 'precipitation'\n",
    "print '& \\\\multicolumn{5}{c|}{'+gt_str+', weeks 3-4} & \\multicolumn{5}{c}{'+gt_str+', weeks 5-6} \\\\\\\\'\n",
    "print '\\\\midrule'\n",
    "print 'year &  multillr & autoknn & ensemble & rec-deb-cfs & ens-cfs &  multillr & autoknn & ensemble & rec-deb-cfs & ens-cfs \\\\\\\\'\n",
    "print '\\\\midrule'\n",
    "# Add individual year skills\n",
    "years = range(2011, 2018)\n",
    "for i in range(7):\n",
    "    # Find relevant dates for this year\n",
    "    skills34_year = all34_skills[\n",
    "        (all34_skills.start_date >= get_target_date(str(years[i])+\"0418\", \"34w\")) & \n",
    "        (all34_skills.start_date <= get_target_date(str(years[i]+1)+\"0417\", \"34w\"))]\n",
    "    backward34 = round(skills34_year.backward34.mean(), 4)\n",
    "    knn34 = round(skills34_year.knn34.mean(), 4)\n",
    "    ensemble34 = round(skills34_year.ensemble34.mean(), 4)\n",
    "    deb_cfs34 = round(skills34_year.deb_cfs34.mean(), 4)\n",
    "    ens_cfs34 = round(skills34_year.ens_cfs34.mean(), 4)\n",
    "    skills56_year = all56_skills[\n",
    "        (all56_skills.start_date >= get_target_date(str(years[i])+\"0418\", \"56w\")) & \n",
    "        (all56_skills.start_date <= get_target_date(str(years[i]+1)+\"0417\", \"56w\"))]\n",
    "    backward56 = round(skills56_year.backward56.mean(), 4)\n",
    "    knn56 = round(skills56_year.knn56.mean(), 4)\n",
    "    ensemble56 = round(skills56_year.ensemble56.mean(), 4)\n",
    "    deb_cfs56 = round(skills56_year.deb_cfs56.mean(), 4)\n",
    "    ens_cfs56 = round(skills56_year.ens_cfs56.mean(), 4)\n",
    "    print '{} & {:0.4f} & {:0.4f} & {:0.4f} & {:0.4f} & {:0.4f} & {:0.4f} & {:0.4f} & {:0.4f} & {:0.4f} & {:0.4f} \\\\\\\\'.format(\n",
    "        str(years[i]), \n",
    "        backward34, knn34, ensemble34, deb_cfs34, ens_cfs34,\n",
    "        backward56, knn56, ensemble56, deb_cfs56, ens_cfs56)\n",
    "    \n",
    "# Add overall means\n",
    "print '\\\\hline'\n",
    "backward34 = round(all34_skills.backward34.mean(), 4)\n",
    "knn34 = round(all34_skills.knn34.mean(), 4)\n",
    "ensemble34 = round(all34_skills.ensemble34.mean(), 4)\n",
    "deb_cfs34 = round(all34_skills.deb_cfs34.mean(), 4)\n",
    "ens_cfs34 = round(all34_skills.ens_cfs34.mean(), 4)\n",
    "backward56 = round(all56_skills.backward56.mean(), 4)\n",
    "knn56 = round(all56_skills.knn56.mean(), 4)\n",
    "ensemble56 = round(all56_skills.ensemble56.mean(), 4)\n",
    "deb_cfs56 = round(all56_skills.deb_cfs56.mean(), 4)\n",
    "ens_cfs56 = round(all56_skills.ens_cfs56.mean(), 4)\n",
    "print 'all & {:0.4f} & {:0.4f} & {:0.4f} & {:0.4f} & {:0.4f} & {:0.4f} & {:0.4f} & {:0.4f} & {:0.4f} & {:0.4f} \\\\\\\\'.format(\n",
    "    backward34, knn34, ensemble34, deb_cfs34, ens_cfs34,\n",
    "    backward56, knn56, ensemble56, deb_cfs56, ens_cfs56)\n",
    "print '\\\\bottomrule\\n\\\\end{tabular}'\n",
    "print '\\\\end{table*}'"
   ]
  }
 ],
 "metadata": {
  "kernelspec": {
   "display_name": "geo",
   "language": "python",
   "name": "geo"
  },
  "language_info": {
   "codemirror_mode": {
    "name": "ipython",
    "version": 3
   },
   "file_extension": ".py",
   "mimetype": "text/x-python",
   "name": "python",
   "nbconvert_exporter": "python",
   "pygments_lexer": "ipython3",
   "version": "3.6.8"
  }
 },
 "nbformat": 4,
 "nbformat_minor": 2
}
